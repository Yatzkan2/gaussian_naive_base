{
 "cells": [
  {
   "cell_type": "code",
   "execution_count": 1,
   "id": "58d20e76",
   "metadata": {},
   "outputs": [],
   "source": [
    "import matplotlib.pyplot as plt\n",
    "import seaborn as sns\n",
    "import os                        \n",
    "import pandas as pd\n",
    "import numpy as np\n",
    "import math \n",
    "import statistics\n",
    "from sklearn.model_selection import train_test_split\n",
    "from sklearn import metrics\n"
   ]
  },
  {
   "cell_type": "code",
   "execution_count": 2,
   "id": "ffd962ec",
   "metadata": {},
   "outputs": [],
   "source": [
    "def load_dataset(file_name, category_col_name):#takes dataset's file name and the label name. returns vectors df, label series and label mapping.\n",
    "    df = pd.read_csv(file_name)\n",
    "    df[category_col_name], category_map = pd.factorize(df[category_col_name])\n",
    "    \n",
    "    return df.drop(columns=category_col_name), df[category_col_name], pd.Series(category_map)"
   ]
  },
  {
   "cell_type": "code",
   "execution_count": 3,
   "id": "4f106663",
   "metadata": {},
   "outputs": [],
   "source": [
    "def calc_class_priors(y_train, lst_class_vals):\n",
    "    class_priors = []\n",
    "    for cls in lst_class_vals:\n",
    "        class_priors.append(y_train.value_counts().iloc[cls]/len(y_train))\n",
    "    return class_priors"
   ]
  },
  {
   "cell_type": "code",
   "execution_count": 4,
   "id": "4b04c5a7",
   "metadata": {},
   "outputs": [],
   "source": [
    "def calc_mean_for_likelihood(training_set, category_col_name):\n",
    "    class_lst=training_set[category_col_name].unique()\n",
    "    class_lst=np.sort(class_lst)\n",
    "    mean_dict={};\n",
    "\n",
    "    for feat in training_set.drop(columns=category_col_name): \n",
    "        mean_dict[feat]=[]\n",
    "        for cls in class_lst:\n",
    "            mean_dict[feat].append(training_set[(training_set[category_col_name]==cls)][feat].mean())\n",
    "    df=pd.DataFrame(mean_dict,index=class_lst)\n",
    "    return df"
   ]
  },
  {
   "cell_type": "code",
   "execution_count": 5,
   "id": "7e43bbe3",
   "metadata": {},
   "outputs": [],
   "source": [
    "def calc_std_for_likelihood(training_set, category_col_name):\n",
    "    std_dict={}\n",
    "    class_lst=training_set[category_col_name].unique()\n",
    "    class_lst=np.sort(class_lst)\n",
    "    for feat in training_set.drop(columns=category_col_name):\n",
    "        std_dict[feat]=[]\n",
    "        for cls in class_lst:\n",
    "            std_dict[feat].append(training_set[(training_set[category_col_name])==cls][feat].std())\n",
    "    df=pd.DataFrame(std_dict, index=class_lst)\n",
    "    return df"
   ]
  },
  {
   "cell_type": "code",
   "execution_count": 6,
   "id": "5db91b02",
   "metadata": {},
   "outputs": [],
   "source": [
    "def fit(training_set,category_col_name):\n",
    "    class_list=np.sort(training_set[category_col_name].unique()) #sorting class label to use as an indices\n",
    "    #discrete feature\n",
    "    \n",
    "    #continuous feat\n",
    "    lst_class_priors = calc_class_priors(training_set[category_col_name],class_list)#claculation priors\n",
    "    df_mean_likelihood=calc_mean_for_likelihood(training_set, category_col_name)#claculation mean\n",
    "    df_std_likelihood=calc_std_for_likelihood(training_set, category_col_name)#claculation std\n",
    "    return lst_class_priors, df_mean_likelihood, df_std_likelihood"
   ]
  },
  {
   "cell_type": "code",
   "execution_count": 7,
   "id": "0417c27d",
   "metadata": {},
   "outputs": [],
   "source": [
    "def calc_gaussian_pdf_prob(x_feature_val, feature_mean, feature_std):\n",
    "    exponent = np.exp(-((x_feature_val-feature_mean)**2 / (2 * feature_std**2 )))\n",
    "    return (1 / ((2 * np.pi)**(1/2) * feature_std)) * exponent"
   ]
  },
  {
   "cell_type": "code",
   "execution_count": 8,
   "id": "6df56e26",
   "metadata": {},
   "outputs": [],
   "source": [
    "def calc_aposterior_probs(X_test, lst_class_priors, df_trained_mean, df_trained_std, lst_class_vals):\n",
    "    num_classes = len(lst_class_vals)\n",
    "    df_prob_per_test_inst_per_class = pd.DataFrame(np.zeros((X_test.shape[0], num_classes)), columns=lst_class_vals, index=X_test.index)\n",
    "\n",
    "    for cls, prior in enumerate(lst_class_priors): #for each class #cls represents the lst_class_priors index and the actual class number\n",
    "        for row_index, vector in X_test.iterrows():#extacting feature vector from the test set\n",
    "            df_prob_per_test_inst_per_class.iloc[row_index,cls]=np.log(prior)\n",
    "            #print(\"row %d, col %d\" %(row_index, cls)) #DBGIN\n",
    "            for feat, x_val in vector.items(): #for each feature vector, x value\n",
    "                mean = df_trained_mean.loc[cls,feat]\n",
    "                std = df_trained_std.loc[cls,feat]\n",
    "                #print(\"cls %d, feature %s\" %(cls, feat)) #DBGIN\n",
    "                \n",
    "                \n",
    "                feat_prob = calc_gaussian_pdf_prob(x_val, mean, std) #calculate the conditional prob of x value\n",
    "                \n",
    "                df_prob_per_test_inst_per_class.iloc[row_index, cls]+=np.log(feat_prob) #prior and conditional probs product\n",
    "            \n",
    "           \n",
    "    return df_prob_per_test_inst_per_class"
   ]
  },
  {
   "cell_type": "code",
   "execution_count": 9,
   "id": "21694e9c",
   "metadata": {},
   "outputs": [],
   "source": [
    "def predict(X_test, lst_class_priors, df_trained_mean, df_trained_std, lst_class_vals):\n",
    "    \n",
    "    y=pd.Series(0, index=range(X_test.shape[0])) #creating empty prediction series\n",
    "    df=calc_aposterior_probs(X_test, lst_class_priors, df_trained_mean, df_trained_std, lst_class_vals)\n",
    "    \n",
    "    for vector_index, probs_per_cls in df.iterrows():\n",
    "        y.iloc[vector_index]=np.argmax(probs_per_cls)\n",
    "    return y"
   ]
  },
  {
   "cell_type": "code",
   "execution_count": 10,
   "id": "a6dcac1c",
   "metadata": {},
   "outputs": [],
   "source": [
    "def set_numbered_index(df, series):\n",
    "    df=df.set_index(np.arange(df.shape[0]))\n",
    "    series.index=np.arange(len(series))\n",
    "    return df, series"
   ]
  },
  {
   "cell_type": "code",
   "execution_count": 11,
   "id": "0a8ac84d",
   "metadata": {},
   "outputs": [
    {
     "data": {
      "text/html": [
       "<div>\n",
       "<style scoped>\n",
       "    .dataframe tbody tr th:only-of-type {\n",
       "        vertical-align: middle;\n",
       "    }\n",
       "\n",
       "    .dataframe tbody tr th {\n",
       "        vertical-align: top;\n",
       "    }\n",
       "\n",
       "    .dataframe thead th {\n",
       "        text-align: right;\n",
       "    }\n",
       "</style>\n",
       "<table border=\"1\" class=\"dataframe\">\n",
       "  <thead>\n",
       "    <tr style=\"text-align: right;\">\n",
       "      <th></th>\n",
       "      <th>sepal_length</th>\n",
       "      <th>sepal_width</th>\n",
       "      <th>petal_length</th>\n",
       "      <th>petal_width</th>\n",
       "      <th>species</th>\n",
       "    </tr>\n",
       "  </thead>\n",
       "  <tbody>\n",
       "    <tr>\n",
       "      <th>0</th>\n",
       "      <td>5.0</td>\n",
       "      <td>3.4</td>\n",
       "      <td>1.5</td>\n",
       "      <td>0.2</td>\n",
       "      <td>0</td>\n",
       "    </tr>\n",
       "    <tr>\n",
       "      <th>1</th>\n",
       "      <td>6.9</td>\n",
       "      <td>3.1</td>\n",
       "      <td>4.9</td>\n",
       "      <td>1.5</td>\n",
       "      <td>1</td>\n",
       "    </tr>\n",
       "    <tr>\n",
       "      <th>2</th>\n",
       "      <td>6.2</td>\n",
       "      <td>2.8</td>\n",
       "      <td>4.8</td>\n",
       "      <td>1.8</td>\n",
       "      <td>2</td>\n",
       "    </tr>\n",
       "    <tr>\n",
       "      <th>3</th>\n",
       "      <td>5.6</td>\n",
       "      <td>2.9</td>\n",
       "      <td>3.6</td>\n",
       "      <td>1.3</td>\n",
       "      <td>1</td>\n",
       "    </tr>\n",
       "    <tr>\n",
       "      <th>4</th>\n",
       "      <td>6.9</td>\n",
       "      <td>3.2</td>\n",
       "      <td>5.7</td>\n",
       "      <td>2.3</td>\n",
       "      <td>2</td>\n",
       "    </tr>\n",
       "  </tbody>\n",
       "</table>\n",
       "</div>"
      ],
      "text/plain": [
       "   sepal_length  sepal_width  petal_length  petal_width  species\n",
       "0           5.0          3.4           1.5          0.2        0\n",
       "1           6.9          3.1           4.9          1.5        1\n",
       "2           6.2          2.8           4.8          1.8        2\n",
       "3           5.6          2.9           3.6          1.3        1\n",
       "4           6.9          3.2           5.7          2.3        2"
      ]
     },
     "execution_count": 11,
     "metadata": {},
     "output_type": "execute_result"
    }
   ],
   "source": [
    "file_name = str(os.getcwd())+str(os.sep)+'Iris.csv'\n",
    "label_col='species'\n",
    "X, y, label_mapping=load_dataset(file_name, label_col)\n",
    "X_train, X_test, y_train, y_test = train_test_split(X,y,test_size=0.3, random_state=42)\n",
    "X_train, y_train=set_numbered_index(X_train, y_train)\n",
    "X_test, y_test=set_numbered_index(X_test, y_test)\n",
    "\n",
    "#X_test=set_numbered_index(X_test)\n",
    "#y_test=set_numbered_index(y_test)\n",
    "train_set=X_train.copy(deep=True)\n",
    "train_set[label_col]=y_train\n",
    "train_set.head(5)\n",
    "#y_train.head(10)"
   ]
  },
  {
   "cell_type": "code",
   "execution_count": 12,
   "id": "86fc38a8",
   "metadata": {},
   "outputs": [
    {
     "data": {
      "text/plain": [
       "[0, 1, 2]"
      ]
     },
     "execution_count": 12,
     "metadata": {},
     "output_type": "execute_result"
    }
   ],
   "source": [
    "label_mapping.index.to_list()\n"
   ]
  },
  {
   "cell_type": "code",
   "execution_count": 13,
   "id": "0f19b802",
   "metadata": {},
   "outputs": [],
   "source": [
    "lst_priors, df_mean, df_std=fit(train_set,label_col)"
   ]
  },
  {
   "cell_type": "code",
   "execution_count": 14,
   "id": "78369862",
   "metadata": {},
   "outputs": [
    {
     "data": {
      "text/html": [
       "<div>\n",
       "<style scoped>\n",
       "    .dataframe tbody tr th:only-of-type {\n",
       "        vertical-align: middle;\n",
       "    }\n",
       "\n",
       "    .dataframe tbody tr th {\n",
       "        vertical-align: top;\n",
       "    }\n",
       "\n",
       "    .dataframe thead th {\n",
       "        text-align: right;\n",
       "    }\n",
       "</style>\n",
       "<table border=\"1\" class=\"dataframe\">\n",
       "  <thead>\n",
       "    <tr style=\"text-align: right;\">\n",
       "      <th></th>\n",
       "      <th>sepal_length</th>\n",
       "      <th>sepal_width</th>\n",
       "      <th>petal_length</th>\n",
       "      <th>petal_width</th>\n",
       "    </tr>\n",
       "  </thead>\n",
       "  <tbody>\n",
       "    <tr>\n",
       "      <th>0</th>\n",
       "      <td>0.233095</td>\n",
       "      <td>0.346410</td>\n",
       "      <td>0.141814</td>\n",
       "      <td>0.066667</td>\n",
       "    </tr>\n",
       "    <tr>\n",
       "      <th>1</th>\n",
       "      <td>0.518130</td>\n",
       "      <td>0.314222</td>\n",
       "      <td>0.536678</td>\n",
       "      <td>0.208609</td>\n",
       "    </tr>\n",
       "    <tr>\n",
       "      <th>2</th>\n",
       "      <td>0.588861</td>\n",
       "      <td>0.322737</td>\n",
       "      <td>0.539269</td>\n",
       "      <td>0.281646</td>\n",
       "    </tr>\n",
       "  </tbody>\n",
       "</table>\n",
       "</div>"
      ],
      "text/plain": [
       "   sepal_length  sepal_width  petal_length  petal_width\n",
       "0      0.233095     0.346410      0.141814     0.066667\n",
       "1      0.518130     0.314222      0.536678     0.208609\n",
       "2      0.588861     0.322737      0.539269     0.281646"
      ]
     },
     "execution_count": 14,
     "metadata": {},
     "output_type": "execute_result"
    }
   ],
   "source": [
    "lst_priors\n",
    "df_mean\n",
    "df_std"
   ]
  },
  {
   "cell_type": "code",
   "execution_count": 15,
   "id": "61f7797f",
   "metadata": {},
   "outputs": [],
   "source": [
    "y_predicted=predict(X_test, lst_priors, df_mean, df_std, label_mapping.index.to_list())\n"
   ]
  },
  {
   "cell_type": "code",
   "execution_count": 16,
   "id": "2eff4c21",
   "metadata": {},
   "outputs": [],
   "source": [
    "def evaluation(y_test, y_pred):\n",
    "    cm=metrics.confusion_matrix(y_test, y_pred)\n",
    "    acc=metrics.accuracy_score(y_test, y_pred)\n",
    "    \n",
    "    er=1-acc\n",
    "    return cm, acc, er"
   ]
  },
  {
   "cell_type": "code",
   "execution_count": 17,
   "id": "e9c60d0a",
   "metadata": {},
   "outputs": [
    {
     "name": "stdout",
     "output_type": "stream",
     "text": [
      "accuracy: 0.93, error rate: 0.07\n"
     ]
    }
   ],
   "source": [
    "cm, acc, er = evaluation(y_predicted, y_test)\n",
    "print(\"accuracy: %.2f, error rate: %.2f\" %(acc, er))"
   ]
  },
  {
   "cell_type": "code",
   "execution_count": 18,
   "id": "f5976443",
   "metadata": {},
   "outputs": [
    {
     "data": {
      "image/png": "[encoded data removed]",
      "text/plain": [
       "<Figure size 600x600 with 2 Axes>"
      ]
     },
     "metadata": {},
     "output_type": "display_data"
    }
   ],
   "source": [
    "plt.figure(figsize=(6,6))\n",
    "sns.heatmap(cm,annot=True, cmap='Blues', fmt='d')\n",
    "plt.xlabel='Actual'\n",
    "plt.ylabel='predicted'\n",
    "plt.title='Model evaluation'\n",
    "plt.show()"
   ]
  },
  {
   "cell_type": "code",
   "execution_count": null,
   "id": "e9d35e2f",
   "metadata": {},
   "outputs": [],
   "source": []
  }
 ],
 "metadata": {
  "kernelspec": {
   "display_name": "Python 3 (ipykernel)",
   "language": "python",
   "name": "python3"
  },
  "language_info": {
   "codemirror_mode": {
    "name": "ipython",
    "version": 3
   },
   "file_extension": ".py",
   "mimetype": "text/x-python",
   "name": "python",
   "nbconvert_exporter": "python",
   "pygments_lexer": "ipython3",
   "version": "3.9.13"
  }
 },
 "nbformat": 4,
 "nbformat_minor": 5
}

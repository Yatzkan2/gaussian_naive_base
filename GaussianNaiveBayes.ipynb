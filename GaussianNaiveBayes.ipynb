{
 "cells": [
  {
   "cell_type": "code",
   "execution_count": 392,
   "id": "58d20e76",
   "metadata": {},
   "outputs": [],
   "source": [
    "import matplotlib.pyplot as plt\n",
    "import seaborn as sns\n",
    "import os                        \n",
    "import pandas as pd\n",
    "import numpy as np\n",
    "import math \n",
    "import statistics\n",
    "from sklearn.model_selection import train_test_split\n",
    "from sklearn import metrics\n"
   ]
  },
  {
   "cell_type": "code",
   "execution_count": 393,
   "id": "ffd962ec",
   "metadata": {},
   "outputs": [],
   "source": [
    "def load_dataset(file_name, category_col_name):#takes dataset's file name and the label name. returns vectors df, label series and label mapping.\n",
    "    df = pd.read_csv(file_name)\n",
    "    df[category_col_name], category_map = pd.factorize(df[category_col_name])\n",
    "    \n",
    "    return df.drop(columns=category_col_name), df[category_col_name], pd.Series(category_map)"
   ]
  },
  {
   "cell_type": "code",
   "execution_count": 394,
   "id": "4f106663",
   "metadata": {},
   "outputs": [],
   "source": [
    "def calc_class_priors(y_train, lst_class_vals):\n",
    "    class_priors = []\n",
    "    for cls in lst_class_vals:\n",
    "        class_priors.append(y_train.value_counts().iloc[cls]/len(y_train))\n",
    "    return class_priors"
   ]
  },
  {
   "cell_type": "code",
   "execution_count": 395,
   "id": "4b04c5a7",
   "metadata": {},
   "outputs": [],
   "source": [
    "def calc_mean_for_likelihood(training_set, category_col_name):\n",
    "    class_lst=training_set[category_col_name].unique()\n",
    "    class_lst=np.sort(class_lst)\n",
    "    mean_dict={};\n",
    "\n",
    "    for feat in training_set.drop(columns=category_col_name): \n",
    "        mean_dict[feat]=[]\n",
    "        for cls in class_lst:\n",
    "            mean_dict[feat].append(training_set[(training_set[category_col_name]==cls)][feat].mean())\n",
    "    df=pd.DataFrame(mean_dict,index=class_lst)\n",
    "    return df"
   ]
  },
  {
   "cell_type": "code",
   "execution_count": 396,
   "id": "7e43bbe3",
   "metadata": {},
   "outputs": [],
   "source": [
    "def calc_std_for_likelihood(training_set, category_col_name):\n",
    "    std_dict={}\n",
    "    class_lst=training_set[category_col_name].unique()\n",
    "    class_lst=np.sort(class_lst)\n",
    "    for feat in training_set.drop(columns=category_col_name):\n",
    "        std_dict[feat]=[]\n",
    "        for cls in class_lst:\n",
    "            std_dict[feat].append(training_set[(training_set[category_col_name])==cls][feat].std())\n",
    "    df=pd.DataFrame(std_dict, index=class_lst)\n",
    "    return df"
   ]
  },
  {
   "cell_type": "code",
   "execution_count": 397,
   "id": "5db91b02",
   "metadata": {},
   "outputs": [],
   "source": [
    "def fit(training_set,category_col_name):\n",
    "    class_list=np.sort(training_set[category_col_name].unique()) #sorting class label to use as an indices\n",
    "    #discrete feature\n",
    "    \n",
    "    #continuous feat\n",
    "    lst_class_priors = calc_class_priors(training_set[category_col_name],class_list)#claculation priors\n",
    "    df_mean_likelihood=calc_mean_for_likelihood(training_set, category_col_name)#claculation mean\n",
    "    df_std_likelihood=calc_std_for_likelihood(training_set, category_col_name)#claculation std\n",
    "    return lst_class_priors, df_mean_likelihood, df_std_likelihood"
   ]
  },
  {
   "cell_type": "code",
   "execution_count": 398,
   "id": "0417c27d",
   "metadata": {},
   "outputs": [],
   "source": [
    "def calc_gaussian_pdf_prob(x_feature_val, feature_mean, feature_std):\n",
    "    exponent = np.exp(-((x_feature_val-feature_mean)**2 / (2 * feature_std**2 )))\n",
    "    return (1 / ((2 * np.pi)**(1/2) * feature_std)) * exponent"
   ]
  },
  {
   "cell_type": "code",
   "execution_count": 399,
   "id": "6df56e26",
   "metadata": {},
   "outputs": [],
   "source": [
    "def calc_aposterior_probs(X_test, lst_class_priors, df_trained_mean, df_trained_std, lst_class_vals):\n",
    "    num_classes = len(lst_class_vals)\n",
    "    df_prob_per_test_inst_per_class = pd.DataFrame(np.zeros((X_test.shape[0], num_classes)), columns=lst_class_vals, index=X_test.index)\n",
    "\n",
    "    for cls, prior in enumerate(lst_class_priors): #for each class #cls represents the lst_class_priors index and the actual class number\n",
    "        for row_index, vector in X_test.iterrows():#extacting feature vector from the test set\n",
    "            df_prob_per_test_inst_per_class.iloc[row_index,cls]=np.log(prior)\n",
    "            #print(\"row %d, col %d\" %(row_index, cls)) #DBGIN\n",
    "            for feat, x_val in vector.items(): #for each feature vector, x value\n",
    "                mean = df_trained_mean.loc[cls,feat]\n",
    "                std = df_trained_std.loc[cls,feat]\n",
    "                #print(\"cls %d, feature %s\" %(cls, feat)) #DBGIN\n",
    "                \n",
    "                \n",
    "                feat_prob = calc_gaussian_pdf_prob(x_val, mean, std) #calculate the conditional prob of x value\n",
    "                \n",
    "                df_prob_per_test_inst_per_class.iloc[row_index, cls]+=np.log(feat_prob) #prior and conditional probs product\n",
    "            \n",
    "           \n",
    "    return df_prob_per_test_inst_per_class"
   ]
  },
  {
   "cell_type": "code",
   "execution_count": 400,
   "id": "21694e9c",
   "metadata": {},
   "outputs": [],
   "source": [
    "def predict(X_test, lst_class_priors, df_trained_mean, df_trained_std, lst_class_vals):\n",
    "    \n",
    "    y=pd.Series(0, index=range(X_test.shape[0])) #creating empty prediction series\n",
    "    df=calc_aposterior_probs(X_test, lst_class_priors, df_trained_mean, df_trained_std, lst_class_vals)\n",
    "    \n",
    "    for vector_index, probs_per_cls in df.iterrows():\n",
    "        y.iloc[vector_index]=np.argmax(probs_per_cls)\n",
    "    return y"
   ]
  },
  {
   "cell_type": "code",
   "execution_count": 401,
   "id": "a6dcac1c",
   "metadata": {},
   "outputs": [],
   "source": [
    "def set_numbered_index(df, series):\n",
    "    df=df.set_index(np.arange(df.shape[0]))\n",
    "    series.index=np.arange(len(series))\n",
    "    return df, series"
   ]
  },
  {
   "cell_type": "code",
   "execution_count": 402,
   "id": "0a8ac84d",
   "metadata": {},
   "outputs": [
    {
     "data": {
      "text/html": [
       "<div>\n",
       "<style scoped>\n",
       "    .dataframe tbody tr th:only-of-type {\n",
       "        vertical-align: middle;\n",
       "    }\n",
       "\n",
       "    .dataframe tbody tr th {\n",
       "        vertical-align: top;\n",
       "    }\n",
       "\n",
       "    .dataframe thead th {\n",
       "        text-align: right;\n",
       "    }\n",
       "</style>\n",
       "<table border=\"1\" class=\"dataframe\">\n",
       "  <thead>\n",
       "    <tr style=\"text-align: right;\">\n",
       "      <th></th>\n",
       "      <th>Alcohol</th>\n",
       "      <th>Malic acid</th>\n",
       "      <th>Ash</th>\n",
       "      <th>Alcalinity of ash</th>\n",
       "      <th>Magnesium</th>\n",
       "      <th>Total phenols</th>\n",
       "      <th>Flavanoids</th>\n",
       "      <th>Nonflavanoid phenols</th>\n",
       "      <th>Proanthocyanins</th>\n",
       "      <th>Color intensity</th>\n",
       "      <th>Hue</th>\n",
       "      <th>OD280/OD315 of diluted wines</th>\n",
       "      <th>Proline</th>\n",
       "      <th>Wine type</th>\n",
       "    </tr>\n",
       "  </thead>\n",
       "  <tbody>\n",
       "    <tr>\n",
       "      <th>0</th>\n",
       "      <td>13.49</td>\n",
       "      <td>3.59</td>\n",
       "      <td>2.19</td>\n",
       "      <td>19.5</td>\n",
       "      <td>88</td>\n",
       "      <td>1.62</td>\n",
       "      <td>0.48</td>\n",
       "      <td>0.58</td>\n",
       "      <td>0.88</td>\n",
       "      <td>5.70</td>\n",
       "      <td>0.81</td>\n",
       "      <td>1.82</td>\n",
       "      <td>580</td>\n",
       "      <td>2</td>\n",
       "    </tr>\n",
       "    <tr>\n",
       "      <th>1</th>\n",
       "      <td>12.51</td>\n",
       "      <td>1.73</td>\n",
       "      <td>1.98</td>\n",
       "      <td>20.5</td>\n",
       "      <td>85</td>\n",
       "      <td>2.20</td>\n",
       "      <td>1.92</td>\n",
       "      <td>0.32</td>\n",
       "      <td>1.48</td>\n",
       "      <td>2.94</td>\n",
       "      <td>1.04</td>\n",
       "      <td>3.57</td>\n",
       "      <td>672</td>\n",
       "      <td>1</td>\n",
       "    </tr>\n",
       "    <tr>\n",
       "      <th>2</th>\n",
       "      <td>12.33</td>\n",
       "      <td>0.99</td>\n",
       "      <td>1.95</td>\n",
       "      <td>14.8</td>\n",
       "      <td>136</td>\n",
       "      <td>1.90</td>\n",
       "      <td>1.85</td>\n",
       "      <td>0.35</td>\n",
       "      <td>2.76</td>\n",
       "      <td>3.40</td>\n",
       "      <td>1.06</td>\n",
       "      <td>2.31</td>\n",
       "      <td>750</td>\n",
       "      <td>1</td>\n",
       "    </tr>\n",
       "    <tr>\n",
       "      <th>3</th>\n",
       "      <td>13.28</td>\n",
       "      <td>1.64</td>\n",
       "      <td>2.84</td>\n",
       "      <td>15.5</td>\n",
       "      <td>110</td>\n",
       "      <td>2.60</td>\n",
       "      <td>2.68</td>\n",
       "      <td>0.34</td>\n",
       "      <td>1.36</td>\n",
       "      <td>4.60</td>\n",
       "      <td>1.09</td>\n",
       "      <td>2.78</td>\n",
       "      <td>880</td>\n",
       "      <td>0</td>\n",
       "    </tr>\n",
       "    <tr>\n",
       "      <th>4</th>\n",
       "      <td>12.29</td>\n",
       "      <td>2.83</td>\n",
       "      <td>2.22</td>\n",
       "      <td>18.0</td>\n",
       "      <td>88</td>\n",
       "      <td>2.45</td>\n",
       "      <td>2.25</td>\n",
       "      <td>0.25</td>\n",
       "      <td>1.99</td>\n",
       "      <td>2.15</td>\n",
       "      <td>1.15</td>\n",
       "      <td>3.30</td>\n",
       "      <td>290</td>\n",
       "      <td>1</td>\n",
       "    </tr>\n",
       "  </tbody>\n",
       "</table>\n",
       "</div>"
      ],
      "text/plain": [
       "   Alcohol  Malic acid   Ash  Alcalinity of ash  Magnesium  Total phenols  \\\n",
       "0    13.49        3.59  2.19               19.5         88           1.62   \n",
       "1    12.51        1.73  1.98               20.5         85           2.20   \n",
       "2    12.33        0.99  1.95               14.8        136           1.90   \n",
       "3    13.28        1.64  2.84               15.5        110           2.60   \n",
       "4    12.29        2.83  2.22               18.0         88           2.45   \n",
       "\n",
       "   Flavanoids  Nonflavanoid phenols  Proanthocyanins  Color intensity   Hue  \\\n",
       "0        0.48                  0.58             0.88             5.70  0.81   \n",
       "1        1.92                  0.32             1.48             2.94  1.04   \n",
       "2        1.85                  0.35             2.76             3.40  1.06   \n",
       "3        2.68                  0.34             1.36             4.60  1.09   \n",
       "4        2.25                  0.25             1.99             2.15  1.15   \n",
       "\n",
       "   OD280/OD315 of diluted wines  Proline  Wine type  \n",
       "0                          1.82      580          2  \n",
       "1                          3.57      672          1  \n",
       "2                          2.31      750          1  \n",
       "3                          2.78      880          0  \n",
       "4                          3.30      290          1  "
      ]
     },
     "execution_count": 402,
     "metadata": {},
     "output_type": "execute_result"
    }
   ],
   "source": [
    "file_name = str(os.getcwd())+str(os.sep)+'wine.csv'\n",
    "label_col='Wine type'\n",
    "X, y, label_mapping=load_dataset(file_name, label_col)\n",
    "X_train, X_test, y_train, y_test = train_test_split(X,y,test_size=0.3, random_state=42)\n",
    "X_train, y_train=set_numbered_index(X_train, y_train)\n",
    "X_test, y_test=set_numbered_index(X_test, y_test)\n",
    "\n",
    "#X_test=set_numbered_index(X_test)\n",
    "#y_test=set_numbered_index(y_test)\n",
    "train_set=X_train.copy(deep=True)\n",
    "train_set[label_col]=y_train\n",
    "train_set.head(5)\n",
    "#y_train.head(10)"
   ]
  },
  {
   "cell_type": "code",
   "execution_count": 403,
   "id": "86fc38a8",
   "metadata": {},
   "outputs": [
    {
     "data": {
      "text/plain": [
       "[0, 1, 2]"
      ]
     },
     "execution_count": 403,
     "metadata": {},
     "output_type": "execute_result"
    }
   ],
   "source": [
    "label_mapping.index.to_list()\n"
   ]
  },
  {
   "cell_type": "code",
   "execution_count": 404,
   "id": "0f19b802",
   "metadata": {},
   "outputs": [],
   "source": [
    "lst_priors, df_mean, df_std=fit(train_set,label_col)"
   ]
  },
  {
   "cell_type": "code",
   "execution_count": 405,
   "id": "78369862",
   "metadata": {},
   "outputs": [
    {
     "data": {
      "text/html": [
       "<div>\n",
       "<style scoped>\n",
       "    .dataframe tbody tr th:only-of-type {\n",
       "        vertical-align: middle;\n",
       "    }\n",
       "\n",
       "    .dataframe tbody tr th {\n",
       "        vertical-align: top;\n",
       "    }\n",
       "\n",
       "    .dataframe thead th {\n",
       "        text-align: right;\n",
       "    }\n",
       "</style>\n",
       "<table border=\"1\" class=\"dataframe\">\n",
       "  <thead>\n",
       "    <tr style=\"text-align: right;\">\n",
       "      <th></th>\n",
       "      <th>Alcohol</th>\n",
       "      <th>Malic acid</th>\n",
       "      <th>Ash</th>\n",
       "      <th>Alcalinity of ash</th>\n",
       "      <th>Magnesium</th>\n",
       "      <th>Total phenols</th>\n",
       "      <th>Flavanoids</th>\n",
       "      <th>Nonflavanoid phenols</th>\n",
       "      <th>Proanthocyanins</th>\n",
       "      <th>Color intensity</th>\n",
       "      <th>Hue</th>\n",
       "      <th>OD280/OD315 of diluted wines</th>\n",
       "      <th>Proline</th>\n",
       "    </tr>\n",
       "  </thead>\n",
       "  <tbody>\n",
       "    <tr>\n",
       "      <th>0</th>\n",
       "      <td>0.509930</td>\n",
       "      <td>0.656471</td>\n",
       "      <td>0.242062</td>\n",
       "      <td>2.703744</td>\n",
       "      <td>10.635572</td>\n",
       "      <td>0.371342</td>\n",
       "      <td>0.414932</td>\n",
       "      <td>0.074987</td>\n",
       "      <td>0.419179</td>\n",
       "      <td>1.225587</td>\n",
       "      <td>0.111812</td>\n",
       "      <td>0.367164</td>\n",
       "      <td>225.412096</td>\n",
       "    </tr>\n",
       "    <tr>\n",
       "      <th>1</th>\n",
       "      <td>0.568611</td>\n",
       "      <td>1.019640</td>\n",
       "      <td>0.317910</td>\n",
       "      <td>3.439602</td>\n",
       "      <td>18.804428</td>\n",
       "      <td>0.587736</td>\n",
       "      <td>0.735479</td>\n",
       "      <td>0.131210</td>\n",
       "      <td>0.619143</td>\n",
       "      <td>0.861743</td>\n",
       "      <td>0.220371</td>\n",
       "      <td>0.505735</td>\n",
       "      <td>162.304940</td>\n",
       "    </tr>\n",
       "    <tr>\n",
       "      <th>2</th>\n",
       "      <td>0.544301</td>\n",
       "      <td>1.019143</td>\n",
       "      <td>0.163842</td>\n",
       "      <td>2.273667</td>\n",
       "      <td>11.365308</td>\n",
       "      <td>0.309354</td>\n",
       "      <td>0.282760</td>\n",
       "      <td>0.128542</td>\n",
       "      <td>0.281243</td>\n",
       "      <td>2.048430</td>\n",
       "      <td>0.117473</td>\n",
       "      <td>0.240703</td>\n",
       "      <td>120.521372</td>\n",
       "    </tr>\n",
       "  </tbody>\n",
       "</table>\n",
       "</div>"
      ],
      "text/plain": [
       "    Alcohol  Malic acid       Ash  Alcalinity of ash  Magnesium  \\\n",
       "0  0.509930    0.656471  0.242062           2.703744  10.635572   \n",
       "1  0.568611    1.019640  0.317910           3.439602  18.804428   \n",
       "2  0.544301    1.019143  0.163842           2.273667  11.365308   \n",
       "\n",
       "   Total phenols  Flavanoids  Nonflavanoid phenols  Proanthocyanins  \\\n",
       "0       0.371342    0.414932              0.074987         0.419179   \n",
       "1       0.587736    0.735479              0.131210         0.619143   \n",
       "2       0.309354    0.282760              0.128542         0.281243   \n",
       "\n",
       "   Color intensity       Hue  OD280/OD315 of diluted wines     Proline  \n",
       "0         1.225587  0.111812                      0.367164  225.412096  \n",
       "1         0.861743  0.220371                      0.505735  162.304940  \n",
       "2         2.048430  0.117473                      0.240703  120.521372  "
      ]
     },
     "execution_count": 405,
     "metadata": {},
     "output_type": "execute_result"
    }
   ],
   "source": [
    "lst_priors\n",
    "df_mean\n",
    "df_std"
   ]
  },
  {
   "cell_type": "code",
   "execution_count": 406,
   "id": "61f7797f",
   "metadata": {},
   "outputs": [],
   "source": [
    "y_predicted=predict(X_test, lst_priors, df_mean, df_std, label_mapping.index.to_list())\n"
   ]
  },
  {
   "cell_type": "code",
   "execution_count": 407,
   "id": "2eff4c21",
   "metadata": {},
   "outputs": [],
   "source": [
    "def evaluation(y_test, y_pred):\n",
    "    cm=metrics.confusion_matrix(y_test, y_pred)\n",
    "    acc=metrics.accuracy_score(y_test, y_pred)\n",
    "    #prec=metrics.precision_score(y_test, y_pred)\n",
    "    #rec=metrics.recall_score(y_test, y_pred)\n",
    "    er=1-acc\n",
    "    return cm, acc, er"
   ]
  },
  {
   "cell_type": "code",
   "execution_count": 408,
   "id": "e9c60d0a",
   "metadata": {},
   "outputs": [],
   "source": [
    "cm, acc, er = evaluation(y_predicted, y_test)"
   ]
  },
  {
   "cell_type": "code",
   "execution_count": 409,
   "id": "f5976443",
   "metadata": {},
   "outputs": [
    {
     "data": {
      "image/png": "[encoded data removed]",
      "text/plain": [
       "<Figure size 600x600 with 2 Axes>"
      ]
     },
     "metadata": {},
     "output_type": "display_data"
    }
   ],
   "source": [
    "plt.figure(figsize=(6,6))\n",
    "sns.heatmap(cm,annot=True, cmap='Blues', fmt='d')\n",
    "plt.xlabel='Actual'\n",
    "plt.ylabel='predicted'\n",
    "plt.title='Model evaluation'\n",
    "plt.show()"
   ]
  },
  {
   "cell_type": "code",
   "execution_count": 143,
   "id": "0c24941a",
   "metadata": {},
   "outputs": [],
   "source": [
    "#def drop_rand_rows(label_ratio_dict, df, label_col_name):\n",
    " #   new_df_list=[]\n",
    "  #  for lbl in label_ratio_dict:\n",
    "   #     new_df_list.append(df[(df[label_col_name]==lbl)].sample(n=label_ratio_dict[lbl]))\n",
    "    #return pd.concat(new_df_list, axis=0)"
   ]
  },
  {
   "cell_type": "code",
   "execution_count": 145,
   "id": "b94e2ffa",
   "metadata": {},
   "outputs": [],
   "source": [
    "label_ratio={\n",
    "    'Iris-setosa': 15,\n",
    "    'Iris-versicolor': 35,\n",
    "    'Iris-virginica': 50\n",
    "}\n",
    "\n",
    "  \n",
    "clear_df=drop_rand_rows(label_ratio, ed, label_col)"
   ]
  },
  {
   "cell_type": "code",
   "execution_count": null,
   "id": "e9d35e2f",
   "metadata": {},
   "outputs": [],
   "source": []
  },
  {
   "cell_type": "code",
   "execution_count": 195,
   "id": "766749e2",
   "metadata": {},
   "outputs": [],
   "source": []
  },
  {
   "cell_type": "code",
   "execution_count": null,
   "id": "dcc874a5",
   "metadata": {},
   "outputs": [],
   "source": []
  }
 ],
 "metadata": {
  "kernelspec": {
   "display_name": "Python 3 (ipykernel)",
   "language": "python",
   "name": "python3"
  },
  "language_info": {
   "codemirror_mode": {
    "name": "ipython",
    "version": 3
   },
   "file_extension": ".py",
   "mimetype": "text/x-python",
   "name": "python",
   "nbconvert_exporter": "python",
   "pygments_lexer": "ipython3",
   "version": "3.9.13"
  }
 },
 "nbformat": 4,
 "nbformat_minor": 5
}

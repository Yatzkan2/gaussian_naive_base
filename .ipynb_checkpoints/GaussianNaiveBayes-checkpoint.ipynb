{
 "cells": [
  {
   "cell_type": "code",
   "execution_count": 157,
   "id": "e60af739",
   "metadata": {},
   "outputs": [],
   "source": [
    "import sys                       # for testing use only\n",
    "import os                        # for testing use only\n",
    "from datetime import datetime    # for testing use only\n",
    "import random                    # for testing use only\n",
    "import hashlib                   # for testing use only\n",
    "import pandas as pd\n",
    "import numpy as np\n",
    "import math \n",
    "import statistics"
   ]
  },
  {
   "cell_type": "code",
   "execution_count": 158,
   "id": "d7a71a9d",
   "metadata": {},
   "outputs": [],
   "source": [
    "def load_dataset(file_name, category_col_name):#takes dataset's file name and the label name. returns vectors df, label series and label mapping.\n",
    "    df = pd.read_csv(file_name)\n",
    "    df[category_col_name], category_map = pd.factorize(df[category_col_name])\n",
    "    \n",
    "    return df.drop(columns=category_col_name), df[category_col_name], pd.Series(category_map)"
   ]
  },
  {
   "cell_type": "code",
   "execution_count": 159,
   "id": "de5709a9",
   "metadata": {},
   "outputs": [],
   "source": [
    "def calc_class_priors(y_train, lst_class_vals):\n",
    "    class_priors = []\n",
    "    for cls in lst_class_vals:\n",
    "        class_priors.append(y_train.value_counts().iloc[cls]/len(y_train))\n",
    "    return class_priors"
   ]
  },
  {
   "cell_type": "code",
   "execution_count": 160,
   "id": "67a70a59",
   "metadata": {},
   "outputs": [],
   "source": [
    "def calc_mean_for_likelihood(training_set, category_col_name):\n",
    "    class_lst=training_set[category_col_name].unique()\n",
    "    class_lst=np.sort(class_lst)\n",
    "    mean_dict={};\n",
    "\n",
    "    for feat in training_set.drop(columns=category_col_name): \n",
    "        mean_dict[feat]=[]\n",
    "        for cls in class_lst:\n",
    "            mean_dict[feat].append(training_set[(training_set[category_col_name]==cls)][feat].mean())\n",
    "    df=pd.DataFrame(mean_dict,index=class_lst)\n",
    "    return df"
   ]
  },
  {
   "cell_type": "code",
   "execution_count": 162,
   "id": "053357dd",
   "metadata": {},
   "outputs": [],
   "source": [
    "def calc_std_for_likelihood(training_set, category_col_name):\n",
    "    std_dict={}\n",
    "    class_lst=training_set[category_col_name].unique()\n",
    "    class_lst=np.sort(class_lst)\n",
    "    for feat in training_set.drop(columns=category_col_name):\n",
    "        std_dict[feat]=[]\n",
    "        for cls in class_lst:\n",
    "            std_dict[feat].append(training_set[(training_set[category_col_name])==cls][feat].std())\n",
    "    df=pd.DataFrame(std_dict, index=class_lst)\n",
    "    return df"
   ]
  },
  {
   "cell_type": "code",
   "execution_count": 163,
   "id": "77340698",
   "metadata": {},
   "outputs": [],
   "source": [
    "def fit(training_set,category_col_name):\n",
    "    class_list=np.sort(training_set[category_col_name].unique()) #sorting class label to use as an indices\n",
    "    \n",
    "    lst_class_priors = calc_class_priors(training_set[category_col_name],class_list)#claculation priors\n",
    "    df_mean_likelihood=calc_mean_for_likelihood(training_set, category_col_name)#claculation mean\n",
    "    df_std_likelihood=calc_std_for_likelihood(training_set, category_col_name)#claculation std\n",
    "    return lst_class_priors, df_mean_likelihood, df_std_likelihood"
   ]
  },
  {
   "cell_type": "code",
   "execution_count": 164,
   "id": "8bfa4a6a",
   "metadata": {},
   "outputs": [],
   "source": [
    "def calc_gaussian_pdf_prob(x_feature_val, feature_mean, feature_std):\n",
    "    exponent = np.exp(-((x_feature_val-feature_mean)**2 / (2 * feature_std**2 )))\n",
    "    return (1 / ((2 * np.pi)**(1/2) * feature_std)) * exponent"
   ]
  },
  {
   "cell_type": "code",
   "execution_count": 106,
   "id": "cb147841",
   "metadata": {},
   "outputs": [],
   "source": [
    "def calc_aposterior_probs(X_test, lst_class_priors, df_trained_mean, df_trained_std, lst_class_vals):\n",
    "    num_classes = len(lst_class_vals)\n",
    "    df_prob_per_test_inst_per_class = pd.DataFrame(np.zeros((X_test.shape[0], num_classes)), columns=lst_class_vals, index=X_test.index)\n",
    "    # YOUR CODE HERE\n",
    "    for cls, prior in enumerate(lst_class_priors): #for each class #cls represents the lst_class_priors index and the actual class number\n",
    "        for row_index, vector in X_test.iterrows():#extacting feature vector from the test set\n",
    "            df_prob_per_test_inst_per_class.iloc[row_index,cls]=prior\n",
    "            for feat, x_val in vector.items(): #for each feature vector, x value\n",
    "                mean = df_trained_mean.loc[cls,feat]\n",
    "                std = df_trained_std.loc[cls,feat]\n",
    "                \n",
    "                feat_prob = calc_gaussian_pdf_prob(x_val, mean, std) #calculate the conditional prob of x value\n",
    "                \n",
    "                df_prob_per_test_inst_per_class.iloc[row_index, cls]*=feat_prob #prior and conditional probs product\n",
    "            \n",
    "           \n",
    "    return df_prob_per_test_inst_per_class"
   ]
  },
  {
   "cell_type": "code",
   "execution_count": 107,
   "id": "753b0c0c",
   "metadata": {},
   "outputs": [],
   "source": [
    "def predict(X_test, lst_class_priors, df_trained_mean, df_trained_std, lst_class_vals):\n",
    "    # YOUR CODE HERE\n",
    "    y=pd.Series(0, index=range(X_test.shape[0])) #creating empty prediction series\n",
    "    df=calc_aposterior_probs(X_test, lst_class_priors, df_trained_mean, df_trained_std, lst_class_vals)\n",
    "    \n",
    "    for vector_index, probs_per_cls in df.iterrows():\n",
    "        y.iloc[vector_index]=np.argmax(probs_per_cls)\n",
    "    return y"
   ]
  },
  {
   "cell_type": "code",
   "execution_count": 169,
   "id": "45d425b6",
   "metadata": {},
   "outputs": [],
   "source": [
    "file_name = str(os.getcwd())+str(os.sep)+'Iris.csv'\n",
    "label_col='species'\n",
    "X, y, label_mapping=load_dataset(file_name, label_col)\n",
    "train_set=X.copy(deep=True)\n",
    "train_set[label_col]=y"
   ]
  },
  {
   "cell_type": "code",
   "execution_count": 171,
   "id": "37b85cae",
   "metadata": {},
   "outputs": [],
   "source": [
    "lst_priors, df_mean, df_std=fit(train_set,label_col)"
   ]
  },
  {
   "cell_type": "code",
   "execution_count": null,
   "id": "06090279",
   "metadata": {},
   "outputs": [],
   "source": []
  },
  {
   "cell_type": "code",
   "execution_count": 156,
   "id": "c4a4e914",
   "metadata": {},
   "outputs": [
    {
     "data": {
      "text/plain": [
       "[0.5, 0.35, 0.15]"
      ]
     },
     "execution_count": 156,
     "metadata": {},
     "output_type": "execute_result"
    }
   ],
   "source": [
    "class_priors=calc_class_priors(y,label_mapping.index.tolist())\n",
    "class_priors"
   ]
  },
  {
   "cell_type": "code",
   "execution_count": 111,
   "id": "02118d13",
   "metadata": {},
   "outputs": [
    {
     "data": {
      "text/html": [
       "<div>\n",
       "<style scoped>\n",
       "    .dataframe tbody tr th:only-of-type {\n",
       "        vertical-align: middle;\n",
       "    }\n",
       "\n",
       "    .dataframe tbody tr th {\n",
       "        vertical-align: top;\n",
       "    }\n",
       "\n",
       "    .dataframe thead th {\n",
       "        text-align: right;\n",
       "    }\n",
       "</style>\n",
       "<table border=\"1\" class=\"dataframe\">\n",
       "  <thead>\n",
       "    <tr style=\"text-align: right;\">\n",
       "      <th></th>\n",
       "      <th>sepal_length</th>\n",
       "      <th>sepal_width</th>\n",
       "      <th>petal_length</th>\n",
       "      <th>petal_width</th>\n",
       "      <th>species</th>\n",
       "    </tr>\n",
       "  </thead>\n",
       "  <tbody>\n",
       "    <tr>\n",
       "      <th>0</th>\n",
       "      <td>5.1</td>\n",
       "      <td>3.5</td>\n",
       "      <td>1.4</td>\n",
       "      <td>0.2</td>\n",
       "      <td>Iris-setosa</td>\n",
       "    </tr>\n",
       "    <tr>\n",
       "      <th>1</th>\n",
       "      <td>4.9</td>\n",
       "      <td>3.0</td>\n",
       "      <td>1.4</td>\n",
       "      <td>0.2</td>\n",
       "      <td>Iris-setosa</td>\n",
       "    </tr>\n",
       "    <tr>\n",
       "      <th>2</th>\n",
       "      <td>4.7</td>\n",
       "      <td>3.2</td>\n",
       "      <td>1.3</td>\n",
       "      <td>0.2</td>\n",
       "      <td>Iris-setosa</td>\n",
       "    </tr>\n",
       "    <tr>\n",
       "      <th>3</th>\n",
       "      <td>4.6</td>\n",
       "      <td>3.1</td>\n",
       "      <td>1.5</td>\n",
       "      <td>0.2</td>\n",
       "      <td>Iris-setosa</td>\n",
       "    </tr>\n",
       "    <tr>\n",
       "      <th>4</th>\n",
       "      <td>5.0</td>\n",
       "      <td>3.6</td>\n",
       "      <td>1.4</td>\n",
       "      <td>0.2</td>\n",
       "      <td>Iris-setosa</td>\n",
       "    </tr>\n",
       "    <tr>\n",
       "      <th>...</th>\n",
       "      <td>...</td>\n",
       "      <td>...</td>\n",
       "      <td>...</td>\n",
       "      <td>...</td>\n",
       "      <td>...</td>\n",
       "    </tr>\n",
       "    <tr>\n",
       "      <th>145</th>\n",
       "      <td>6.7</td>\n",
       "      <td>3.0</td>\n",
       "      <td>5.2</td>\n",
       "      <td>2.3</td>\n",
       "      <td>Iris-virginica</td>\n",
       "    </tr>\n",
       "    <tr>\n",
       "      <th>146</th>\n",
       "      <td>6.3</td>\n",
       "      <td>2.5</td>\n",
       "      <td>5.0</td>\n",
       "      <td>1.9</td>\n",
       "      <td>Iris-virginica</td>\n",
       "    </tr>\n",
       "    <tr>\n",
       "      <th>147</th>\n",
       "      <td>6.5</td>\n",
       "      <td>3.0</td>\n",
       "      <td>5.2</td>\n",
       "      <td>2.0</td>\n",
       "      <td>Iris-virginica</td>\n",
       "    </tr>\n",
       "    <tr>\n",
       "      <th>148</th>\n",
       "      <td>6.2</td>\n",
       "      <td>3.4</td>\n",
       "      <td>5.4</td>\n",
       "      <td>2.3</td>\n",
       "      <td>Iris-virginica</td>\n",
       "    </tr>\n",
       "    <tr>\n",
       "      <th>149</th>\n",
       "      <td>5.9</td>\n",
       "      <td>3.0</td>\n",
       "      <td>5.1</td>\n",
       "      <td>1.8</td>\n",
       "      <td>Iris-virginica</td>\n",
       "    </tr>\n",
       "  </tbody>\n",
       "</table>\n",
       "<p>150 rows × 5 columns</p>\n",
       "</div>"
      ],
      "text/plain": [
       "     sepal_length  sepal_width  petal_length  petal_width         species\n",
       "0             5.1          3.5           1.4          0.2     Iris-setosa\n",
       "1             4.9          3.0           1.4          0.2     Iris-setosa\n",
       "2             4.7          3.2           1.3          0.2     Iris-setosa\n",
       "3             4.6          3.1           1.5          0.2     Iris-setosa\n",
       "4             5.0          3.6           1.4          0.2     Iris-setosa\n",
       "..            ...          ...           ...          ...             ...\n",
       "145           6.7          3.0           5.2          2.3  Iris-virginica\n",
       "146           6.3          2.5           5.0          1.9  Iris-virginica\n",
       "147           6.5          3.0           5.2          2.0  Iris-virginica\n",
       "148           6.2          3.4           5.4          2.3  Iris-virginica\n",
       "149           5.9          3.0           5.1          1.8  Iris-virginica\n",
       "\n",
       "[150 rows x 5 columns]"
      ]
     },
     "execution_count": 111,
     "metadata": {},
     "output_type": "execute_result"
    }
   ],
   "source": [
    "ed=pd.read_csv(file_name)\n",
    "ed"
   ]
  },
  {
   "cell_type": "code",
   "execution_count": 127,
   "id": "892ceb21",
   "metadata": {},
   "outputs": [
    {
     "data": {
      "text/html": [
       "<div>\n",
       "<style scoped>\n",
       "    .dataframe tbody tr th:only-of-type {\n",
       "        vertical-align: middle;\n",
       "    }\n",
       "\n",
       "    .dataframe tbody tr th {\n",
       "        vertical-align: top;\n",
       "    }\n",
       "\n",
       "    .dataframe thead th {\n",
       "        text-align: right;\n",
       "    }\n",
       "</style>\n",
       "<table border=\"1\" class=\"dataframe\">\n",
       "  <thead>\n",
       "    <tr style=\"text-align: right;\">\n",
       "      <th></th>\n",
       "      <th>sepal_length</th>\n",
       "      <th>sepal_width</th>\n",
       "      <th>petal_length</th>\n",
       "      <th>petal_width</th>\n",
       "      <th>species</th>\n",
       "    </tr>\n",
       "  </thead>\n",
       "  <tbody>\n",
       "    <tr>\n",
       "      <th>18</th>\n",
       "      <td>5.7</td>\n",
       "      <td>3.8</td>\n",
       "      <td>1.7</td>\n",
       "      <td>0.3</td>\n",
       "      <td>Iris-setosa</td>\n",
       "    </tr>\n",
       "    <tr>\n",
       "      <th>21</th>\n",
       "      <td>5.1</td>\n",
       "      <td>3.7</td>\n",
       "      <td>1.5</td>\n",
       "      <td>0.4</td>\n",
       "      <td>Iris-setosa</td>\n",
       "    </tr>\n",
       "    <tr>\n",
       "      <th>4</th>\n",
       "      <td>5.0</td>\n",
       "      <td>3.6</td>\n",
       "      <td>1.4</td>\n",
       "      <td>0.2</td>\n",
       "      <td>Iris-setosa</td>\n",
       "    </tr>\n",
       "    <tr>\n",
       "      <th>41</th>\n",
       "      <td>4.5</td>\n",
       "      <td>2.3</td>\n",
       "      <td>1.3</td>\n",
       "      <td>0.3</td>\n",
       "      <td>Iris-setosa</td>\n",
       "    </tr>\n",
       "  </tbody>\n",
       "</table>\n",
       "</div>"
      ],
      "text/plain": [
       "    sepal_length  sepal_width  petal_length  petal_width      species\n",
       "18           5.7          3.8           1.7          0.3  Iris-setosa\n",
       "21           5.1          3.7           1.5          0.4  Iris-setosa\n",
       "4            5.0          3.6           1.4          0.2  Iris-setosa\n",
       "41           4.5          2.3           1.3          0.3  Iris-setosa"
      ]
     },
     "execution_count": 127,
     "metadata": {},
     "output_type": "execute_result"
    }
   ],
   "source": []
  },
  {
   "cell_type": "code",
   "execution_count": 143,
   "id": "08b90310",
   "metadata": {},
   "outputs": [],
   "source": [
    "#def drop_rand_rows(label_ratio_dict, df, label_col_name):\n",
    " #   new_df_list=[]\n",
    "  #  for lbl in label_ratio_dict:\n",
    "   #     new_df_list.append(df[(df[label_col_name]==lbl)].sample(n=label_ratio_dict[lbl]))\n",
    "    #return pd.concat(new_df_list, axis=0)"
   ]
  },
  {
   "cell_type": "code",
   "execution_count": 145,
   "id": "9ffde3a4",
   "metadata": {},
   "outputs": [],
   "source": [
    "label_ratio={\n",
    "    'Iris-setosa': 15,\n",
    "    'Iris-versicolor': 35,\n",
    "    'Iris-virginica': 50\n",
    "}\n",
    "\n",
    "    \n",
    "clear_df=drop_rand_rows(label_ratio, ed, label_col)"
   ]
  },
  {
   "cell_type": "code",
   "execution_count": 153,
   "id": "5b5003d6",
   "metadata": {},
   "outputs": [
    {
     "data": {
      "text/plain": [
       "Iris-virginica     50\n",
       "Iris-versicolor    35\n",
       "Iris-setosa        15\n",
       "Name: species, dtype: int64"
      ]
     },
     "execution_count": 153,
     "metadata": {},
     "output_type": "execute_result"
    }
   ],
   "source": [
    "clear_df[label_col].value_counts()"
   ]
  },
  {
   "cell_type": "code",
   "execution_count": 154,
   "id": "42d38ffd",
   "metadata": {},
   "outputs": [],
   "source": [
    "clear_df.to_csv('Iris.csv')"
   ]
  },
  {
   "cell_type": "code",
   "execution_count": null,
   "id": "8b419422",
   "metadata": {},
   "outputs": [],
   "source": []
  }
 ],
 "metadata": {
  "kernelspec": {
   "display_name": "Python 3 (ipykernel)",
   "language": "python",
   "name": "python3"
  },
  "language_info": {
   "codemirror_mode": {
    "name": "ipython",
    "version": 3
   },
   "file_extension": ".py",
   "mimetype": "text/x-python",
   "name": "python",
   "nbconvert_exporter": "python",
   "pygments_lexer": "ipython3",
   "version": "3.9.13"
  }
 },
 "nbformat": 4,
 "nbformat_minor": 5
}
